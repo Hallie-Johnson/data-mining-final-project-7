{
 "cells": [
  {
   "cell_type": "markdown",
   "id": "8515400a",
   "metadata": {},
   "source": [
    "# Data Mining Final Project: Disneyland Reviews"
   ]
  },
  {
   "cell_type": "markdown",
   "id": "f2a35b4c",
   "metadata": {},
   "source": [
    "Set Up"
   ]
  },
  {
   "cell_type": "code",
   "execution_count": 1,
   "id": "88e602fb",
   "metadata": {},
   "outputs": [],
   "source": [
    "import pandas as pd\n",
    "import numpy as np"
   ]
  },
  {
   "cell_type": "code",
   "execution_count": 2,
   "id": "12891724",
   "metadata": {},
   "outputs": [],
   "source": [
    "disney_df = pd.read_csv(\"DisneylandReviews.csv\", encoding='latin-1')"
   ]
  },
  {
   "cell_type": "code",
   "execution_count": 3,
   "id": "a49e57ac",
   "metadata": {},
   "outputs": [
    {
     "data": {
      "text/html": [
       "<div>\n",
       "<style scoped>\n",
       "    .dataframe tbody tr th:only-of-type {\n",
       "        vertical-align: middle;\n",
       "    }\n",
       "\n",
       "    .dataframe tbody tr th {\n",
       "        vertical-align: top;\n",
       "    }\n",
       "\n",
       "    .dataframe thead th {\n",
       "        text-align: right;\n",
       "    }\n",
       "</style>\n",
       "<table border=\"1\" class=\"dataframe\">\n",
       "  <thead>\n",
       "    <tr style=\"text-align: right;\">\n",
       "      <th></th>\n",
       "      <th>Review_ID</th>\n",
       "      <th>Rating</th>\n",
       "      <th>Year_Month</th>\n",
       "      <th>Reviewer_Location</th>\n",
       "      <th>Review_Text</th>\n",
       "      <th>Branch</th>\n",
       "    </tr>\n",
       "  </thead>\n",
       "  <tbody>\n",
       "    <tr>\n",
       "      <th>0</th>\n",
       "      <td>670772142</td>\n",
       "      <td>4</td>\n",
       "      <td>2019-4</td>\n",
       "      <td>Australia</td>\n",
       "      <td>If you've ever been to Disneyland anywhere you...</td>\n",
       "      <td>Disneyland_HongKong</td>\n",
       "    </tr>\n",
       "    <tr>\n",
       "      <th>1</th>\n",
       "      <td>670682799</td>\n",
       "      <td>4</td>\n",
       "      <td>2019-5</td>\n",
       "      <td>Philippines</td>\n",
       "      <td>Its been a while since d last time we visit HK...</td>\n",
       "      <td>Disneyland_HongKong</td>\n",
       "    </tr>\n",
       "    <tr>\n",
       "      <th>2</th>\n",
       "      <td>670623270</td>\n",
       "      <td>4</td>\n",
       "      <td>2019-4</td>\n",
       "      <td>United Arab Emirates</td>\n",
       "      <td>Thanks God it wasn   t too hot or too humid wh...</td>\n",
       "      <td>Disneyland_HongKong</td>\n",
       "    </tr>\n",
       "    <tr>\n",
       "      <th>3</th>\n",
       "      <td>670607911</td>\n",
       "      <td>4</td>\n",
       "      <td>2019-4</td>\n",
       "      <td>Australia</td>\n",
       "      <td>HK Disneyland is a great compact park. Unfortu...</td>\n",
       "      <td>Disneyland_HongKong</td>\n",
       "    </tr>\n",
       "    <tr>\n",
       "      <th>4</th>\n",
       "      <td>670607296</td>\n",
       "      <td>4</td>\n",
       "      <td>2019-4</td>\n",
       "      <td>United Kingdom</td>\n",
       "      <td>the location is not in the city, took around 1...</td>\n",
       "      <td>Disneyland_HongKong</td>\n",
       "    </tr>\n",
       "  </tbody>\n",
       "</table>\n",
       "</div>"
      ],
      "text/plain": [
       "   Review_ID  Rating Year_Month     Reviewer_Location  \\\n",
       "0  670772142       4     2019-4             Australia   \n",
       "1  670682799       4     2019-5           Philippines   \n",
       "2  670623270       4     2019-4  United Arab Emirates   \n",
       "3  670607911       4     2019-4             Australia   \n",
       "4  670607296       4     2019-4        United Kingdom   \n",
       "\n",
       "                                         Review_Text               Branch  \n",
       "0  If you've ever been to Disneyland anywhere you...  Disneyland_HongKong  \n",
       "1  Its been a while since d last time we visit HK...  Disneyland_HongKong  \n",
       "2  Thanks God it wasn   t too hot or too humid wh...  Disneyland_HongKong  \n",
       "3  HK Disneyland is a great compact park. Unfortu...  Disneyland_HongKong  \n",
       "4  the location is not in the city, took around 1...  Disneyland_HongKong  "
      ]
     },
     "execution_count": 3,
     "metadata": {},
     "output_type": "execute_result"
    }
   ],
   "source": [
    "disney_df.head()"
   ]
  },
  {
   "cell_type": "code",
   "execution_count": 4,
   "id": "4fb77d96",
   "metadata": {},
   "outputs": [
    {
     "data": {
      "text/plain": [
       "Review_ID             int64\n",
       "Rating                int64\n",
       "Year_Month           object\n",
       "Reviewer_Location    object\n",
       "Review_Text          object\n",
       "Branch               object\n",
       "dtype: object"
      ]
     },
     "execution_count": 4,
     "metadata": {},
     "output_type": "execute_result"
    }
   ],
   "source": [
    "disney_df.dtypes"
   ]
  },
  {
   "cell_type": "code",
   "execution_count": 5,
   "id": "d70e7671",
   "metadata": {},
   "outputs": [
    {
     "data": {
      "text/plain": [
       "(42656, 6)"
      ]
     },
     "execution_count": 5,
     "metadata": {},
     "output_type": "execute_result"
    }
   ],
   "source": [
    "disney_df.shape"
   ]
  },
  {
   "cell_type": "markdown",
   "id": "5c43c00a",
   "metadata": {},
   "source": [
    " "
   ]
  },
  {
   "cell_type": "markdown",
   "id": "11aa06b2",
   "metadata": {},
   "source": [
    "Pre-Processing"
   ]
  },
  {
   "cell_type": "code",
   "execution_count": 6,
   "id": "29eb059c",
   "metadata": {},
   "outputs": [],
   "source": [
    "disney_df = disney_df.dropna(axis=0) #remove all null values"
   ]
  },
  {
   "cell_type": "code",
   "execution_count": 7,
   "id": "c6d2a96a",
   "metadata": {},
   "outputs": [
    {
     "data": {
      "text/html": [
       "<div>\n",
       "<style scoped>\n",
       "    .dataframe tbody tr th:only-of-type {\n",
       "        vertical-align: middle;\n",
       "    }\n",
       "\n",
       "    .dataframe tbody tr th {\n",
       "        vertical-align: top;\n",
       "    }\n",
       "\n",
       "    .dataframe thead th {\n",
       "        text-align: right;\n",
       "    }\n",
       "</style>\n",
       "<table border=\"1\" class=\"dataframe\">\n",
       "  <thead>\n",
       "    <tr style=\"text-align: right;\">\n",
       "      <th></th>\n",
       "      <th>Review_ID</th>\n",
       "      <th>Rating</th>\n",
       "      <th>Year_Month</th>\n",
       "      <th>Reviewer_Location</th>\n",
       "      <th>Review_Text</th>\n",
       "      <th>Branch</th>\n",
       "    </tr>\n",
       "  </thead>\n",
       "  <tbody>\n",
       "    <tr>\n",
       "      <th>0</th>\n",
       "      <td>670772142</td>\n",
       "      <td>4</td>\n",
       "      <td>2019-4</td>\n",
       "      <td>Australia</td>\n",
       "      <td>If you've ever been to Disneyland anywhere you...</td>\n",
       "      <td>Disneyland_HongKong</td>\n",
       "    </tr>\n",
       "    <tr>\n",
       "      <th>1</th>\n",
       "      <td>670682799</td>\n",
       "      <td>4</td>\n",
       "      <td>2019-5</td>\n",
       "      <td>Philippines</td>\n",
       "      <td>Its been a while since d last time we visit HK...</td>\n",
       "      <td>Disneyland_HongKong</td>\n",
       "    </tr>\n",
       "    <tr>\n",
       "      <th>2</th>\n",
       "      <td>670623270</td>\n",
       "      <td>4</td>\n",
       "      <td>2019-4</td>\n",
       "      <td>United Arab Emirates</td>\n",
       "      <td>Thanks God it wasn   t too hot or too humid wh...</td>\n",
       "      <td>Disneyland_HongKong</td>\n",
       "    </tr>\n",
       "    <tr>\n",
       "      <th>3</th>\n",
       "      <td>670607911</td>\n",
       "      <td>4</td>\n",
       "      <td>2019-4</td>\n",
       "      <td>Australia</td>\n",
       "      <td>HK Disneyland is a great compact park. Unfortu...</td>\n",
       "      <td>Disneyland_HongKong</td>\n",
       "    </tr>\n",
       "    <tr>\n",
       "      <th>4</th>\n",
       "      <td>670607296</td>\n",
       "      <td>4</td>\n",
       "      <td>2019-4</td>\n",
       "      <td>United Kingdom</td>\n",
       "      <td>the location is not in the city, took around 1...</td>\n",
       "      <td>Disneyland_HongKong</td>\n",
       "    </tr>\n",
       "    <tr>\n",
       "      <th>...</th>\n",
       "      <td>...</td>\n",
       "      <td>...</td>\n",
       "      <td>...</td>\n",
       "      <td>...</td>\n",
       "      <td>...</td>\n",
       "      <td>...</td>\n",
       "    </tr>\n",
       "    <tr>\n",
       "      <th>42651</th>\n",
       "      <td>1765031</td>\n",
       "      <td>5</td>\n",
       "      <td>missing</td>\n",
       "      <td>United Kingdom</td>\n",
       "      <td>i went to disneyland paris in july 03 and thou...</td>\n",
       "      <td>Disneyland_Paris</td>\n",
       "    </tr>\n",
       "    <tr>\n",
       "      <th>42652</th>\n",
       "      <td>1659553</td>\n",
       "      <td>5</td>\n",
       "      <td>missing</td>\n",
       "      <td>Canada</td>\n",
       "      <td>2 adults and 1 child of 11 visited Disneyland ...</td>\n",
       "      <td>Disneyland_Paris</td>\n",
       "    </tr>\n",
       "    <tr>\n",
       "      <th>42653</th>\n",
       "      <td>1645894</td>\n",
       "      <td>5</td>\n",
       "      <td>missing</td>\n",
       "      <td>South Africa</td>\n",
       "      <td>My eleven year old daughter and myself went to...</td>\n",
       "      <td>Disneyland_Paris</td>\n",
       "    </tr>\n",
       "    <tr>\n",
       "      <th>42654</th>\n",
       "      <td>1618637</td>\n",
       "      <td>4</td>\n",
       "      <td>missing</td>\n",
       "      <td>United States</td>\n",
       "      <td>This hotel, part of the Disneyland Paris compl...</td>\n",
       "      <td>Disneyland_Paris</td>\n",
       "    </tr>\n",
       "    <tr>\n",
       "      <th>42655</th>\n",
       "      <td>1536786</td>\n",
       "      <td>4</td>\n",
       "      <td>missing</td>\n",
       "      <td>United Kingdom</td>\n",
       "      <td>I went to the Disneyparis resort, in 1996, wit...</td>\n",
       "      <td>Disneyland_Paris</td>\n",
       "    </tr>\n",
       "  </tbody>\n",
       "</table>\n",
       "<p>42644 rows × 6 columns</p>\n",
       "</div>"
      ],
      "text/plain": [
       "       Review_ID  Rating Year_Month     Reviewer_Location  \\\n",
       "0      670772142       4     2019-4             Australia   \n",
       "1      670682799       4     2019-5           Philippines   \n",
       "2      670623270       4     2019-4  United Arab Emirates   \n",
       "3      670607911       4     2019-4             Australia   \n",
       "4      670607296       4     2019-4        United Kingdom   \n",
       "...          ...     ...        ...                   ...   \n",
       "42651    1765031       5    missing        United Kingdom   \n",
       "42652    1659553       5    missing                Canada   \n",
       "42653    1645894       5    missing          South Africa   \n",
       "42654    1618637       4    missing         United States   \n",
       "42655    1536786       4    missing        United Kingdom   \n",
       "\n",
       "                                             Review_Text               Branch  \n",
       "0      If you've ever been to Disneyland anywhere you...  Disneyland_HongKong  \n",
       "1      Its been a while since d last time we visit HK...  Disneyland_HongKong  \n",
       "2      Thanks God it wasn   t too hot or too humid wh...  Disneyland_HongKong  \n",
       "3      HK Disneyland is a great compact park. Unfortu...  Disneyland_HongKong  \n",
       "4      the location is not in the city, took around 1...  Disneyland_HongKong  \n",
       "...                                                  ...                  ...  \n",
       "42651  i went to disneyland paris in july 03 and thou...     Disneyland_Paris  \n",
       "42652  2 adults and 1 child of 11 visited Disneyland ...     Disneyland_Paris  \n",
       "42653  My eleven year old daughter and myself went to...     Disneyland_Paris  \n",
       "42654  This hotel, part of the Disneyland Paris compl...     Disneyland_Paris  \n",
       "42655  I went to the Disneyparis resort, in 1996, wit...     Disneyland_Paris  \n",
       "\n",
       "[42644 rows x 6 columns]"
      ]
     },
     "execution_count": 7,
     "metadata": {},
     "output_type": "execute_result"
    }
   ],
   "source": [
    "disney_df.drop_duplicates() #remove all duplicates"
   ]
  },
  {
   "cell_type": "code",
   "execution_count": 8,
   "id": "29f707e1",
   "metadata": {},
   "outputs": [],
   "source": [
    "disney_df = disney_df[disney_df.Review_ID != \"missing\"]"
   ]
  },
  {
   "cell_type": "code",
   "execution_count": 9,
   "id": "77c8d1e4",
   "metadata": {},
   "outputs": [],
   "source": [
    "disney_df = disney_df[disney_df.Rating != \"missing\"]"
   ]
  },
  {
   "cell_type": "code",
   "execution_count": 10,
   "id": "b0339157",
   "metadata": {},
   "outputs": [],
   "source": [
    "disney_df = disney_df[disney_df.Year_Month != \"missing\"]"
   ]
  },
  {
   "cell_type": "code",
   "execution_count": 11,
   "id": "2f9b7ad1",
   "metadata": {},
   "outputs": [],
   "source": [
    "disney_df = disney_df[disney_df.Reviewer_Location != \"missing\"]"
   ]
  },
  {
   "cell_type": "code",
   "execution_count": 12,
   "id": "4bfb2e19",
   "metadata": {},
   "outputs": [],
   "source": [
    "disney_df = disney_df[disney_df.Review_Text != \"missing\"]"
   ]
  },
  {
   "cell_type": "code",
   "execution_count": 13,
   "id": "a675aed7",
   "metadata": {},
   "outputs": [],
   "source": [
    "disney_df = disney_df[disney_df.Branch != \"missing\"]"
   ]
  },
  {
   "cell_type": "code",
   "execution_count": 14,
   "id": "7155028a",
   "metadata": {},
   "outputs": [
    {
     "data": {
      "text/plain": [
       "(40043, 6)"
      ]
     },
     "execution_count": 14,
     "metadata": {},
     "output_type": "execute_result"
    }
   ],
   "source": [
    "disney_df.shape"
   ]
  },
  {
   "cell_type": "code",
   "execution_count": 15,
   "id": "344c1544",
   "metadata": {},
   "outputs": [],
   "source": [
    "disney_df['Year'] = disney_df.Year_Month.str[:4]"
   ]
  },
  {
   "cell_type": "code",
   "execution_count": 17,
   "id": "1067606f",
   "metadata": {},
   "outputs": [],
   "source": [
    "disney_df['Month'] = disney_df.Year_Month.str[5:]"
   ]
  },
  {
   "cell_type": "code",
   "execution_count": 18,
   "id": "11c0a6c8",
   "metadata": {},
   "outputs": [
    {
     "data": {
      "text/html": [
       "<div>\n",
       "<style scoped>\n",
       "    .dataframe tbody tr th:only-of-type {\n",
       "        vertical-align: middle;\n",
       "    }\n",
       "\n",
       "    .dataframe tbody tr th {\n",
       "        vertical-align: top;\n",
       "    }\n",
       "\n",
       "    .dataframe thead th {\n",
       "        text-align: right;\n",
       "    }\n",
       "</style>\n",
       "<table border=\"1\" class=\"dataframe\">\n",
       "  <thead>\n",
       "    <tr style=\"text-align: right;\">\n",
       "      <th></th>\n",
       "      <th>Review_ID</th>\n",
       "      <th>Rating</th>\n",
       "      <th>Year_Month</th>\n",
       "      <th>Reviewer_Location</th>\n",
       "      <th>Review_Text</th>\n",
       "      <th>Branch</th>\n",
       "      <th>Year</th>\n",
       "      <th>Month</th>\n",
       "    </tr>\n",
       "  </thead>\n",
       "  <tbody>\n",
       "    <tr>\n",
       "      <th>0</th>\n",
       "      <td>670772142</td>\n",
       "      <td>4</td>\n",
       "      <td>2019-4</td>\n",
       "      <td>Australia</td>\n",
       "      <td>If you've ever been to Disneyland anywhere you...</td>\n",
       "      <td>Disneyland_HongKong</td>\n",
       "      <td>2019</td>\n",
       "      <td>4</td>\n",
       "    </tr>\n",
       "    <tr>\n",
       "      <th>1</th>\n",
       "      <td>670682799</td>\n",
       "      <td>4</td>\n",
       "      <td>2019-5</td>\n",
       "      <td>Philippines</td>\n",
       "      <td>Its been a while since d last time we visit HK...</td>\n",
       "      <td>Disneyland_HongKong</td>\n",
       "      <td>2019</td>\n",
       "      <td>5</td>\n",
       "    </tr>\n",
       "    <tr>\n",
       "      <th>2</th>\n",
       "      <td>670623270</td>\n",
       "      <td>4</td>\n",
       "      <td>2019-4</td>\n",
       "      <td>United Arab Emirates</td>\n",
       "      <td>Thanks God it wasn   t too hot or too humid wh...</td>\n",
       "      <td>Disneyland_HongKong</td>\n",
       "      <td>2019</td>\n",
       "      <td>4</td>\n",
       "    </tr>\n",
       "    <tr>\n",
       "      <th>3</th>\n",
       "      <td>670607911</td>\n",
       "      <td>4</td>\n",
       "      <td>2019-4</td>\n",
       "      <td>Australia</td>\n",
       "      <td>HK Disneyland is a great compact park. Unfortu...</td>\n",
       "      <td>Disneyland_HongKong</td>\n",
       "      <td>2019</td>\n",
       "      <td>4</td>\n",
       "    </tr>\n",
       "    <tr>\n",
       "      <th>4</th>\n",
       "      <td>670607296</td>\n",
       "      <td>4</td>\n",
       "      <td>2019-4</td>\n",
       "      <td>United Kingdom</td>\n",
       "      <td>the location is not in the city, took around 1...</td>\n",
       "      <td>Disneyland_HongKong</td>\n",
       "      <td>2019</td>\n",
       "      <td>4</td>\n",
       "    </tr>\n",
       "  </tbody>\n",
       "</table>\n",
       "</div>"
      ],
      "text/plain": [
       "   Review_ID  Rating Year_Month     Reviewer_Location  \\\n",
       "0  670772142       4     2019-4             Australia   \n",
       "1  670682799       4     2019-5           Philippines   \n",
       "2  670623270       4     2019-4  United Arab Emirates   \n",
       "3  670607911       4     2019-4             Australia   \n",
       "4  670607296       4     2019-4        United Kingdom   \n",
       "\n",
       "                                         Review_Text               Branch  \\\n",
       "0  If you've ever been to Disneyland anywhere you...  Disneyland_HongKong   \n",
       "1  Its been a while since d last time we visit HK...  Disneyland_HongKong   \n",
       "2  Thanks God it wasn   t too hot or too humid wh...  Disneyland_HongKong   \n",
       "3  HK Disneyland is a great compact park. Unfortu...  Disneyland_HongKong   \n",
       "4  the location is not in the city, took around 1...  Disneyland_HongKong   \n",
       "\n",
       "   Year Month  \n",
       "0  2019     4  \n",
       "1  2019     5  \n",
       "2  2019     4  \n",
       "3  2019     4  \n",
       "4  2019     4  "
      ]
     },
     "execution_count": 18,
     "metadata": {},
     "output_type": "execute_result"
    }
   ],
   "source": [
    "disney_df.head()"
   ]
  },
  {
   "cell_type": "code",
   "execution_count": null,
   "id": "94853d2b",
   "metadata": {},
   "outputs": [],
   "source": []
  }
 ],
 "metadata": {
  "kernelspec": {
   "display_name": "Python 3 (ipykernel)",
   "language": "python",
   "name": "python3"
  },
  "language_info": {
   "codemirror_mode": {
    "name": "ipython",
    "version": 3
   },
   "file_extension": ".py",
   "mimetype": "text/x-python",
   "name": "python",
   "nbconvert_exporter": "python",
   "pygments_lexer": "ipython3",
   "version": "3.9.12"
  }
 },
 "nbformat": 4,
 "nbformat_minor": 5
}
